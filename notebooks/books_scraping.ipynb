{
 "cells": [
  {
   "cell_type": "markdown",
   "id": "0383f103",
   "metadata": {},
   "source": [
    "# Books Webscraping\n",
    "\n",
    "## 1. Coletar os seguintes dados da página: https://books.toscrape.com\n",
    "    • Catálogo:\n",
    "        – Classics\n",
    "        – Science Fiction\n",
    "        – Humor\n",
    "        – Business\n",
    "        \n",
    "    • Coletar os seguintes dados de cada livro:\n",
    "        – Nome do livro\n",
    "        – Preço em libras\n",
    "        – Avaliação dos consumidores\n",
    "        – Disponível em estoque"
   ]
  },
  {
   "cell_type": "code",
   "execution_count": 236,
   "id": "56755ef5",
   "metadata": {},
   "outputs": [],
   "source": [
    "import smtplib\n",
    "import requests\n",
    "import inflection \n",
    "\n",
    "import pandas as pd\n",
    "\n",
    "from bs4 import BeautifulSoup\n",
    "from datetime import datetime"
   ]
  },
  {
   "cell_type": "markdown",
   "id": "0f91ef1f",
   "metadata": {},
   "source": [
    "## 1.1. Set API Request"
   ]
  },
  {
   "cell_type": "code",
   "execution_count": 2,
   "id": "c349f0a2",
   "metadata": {},
   "outputs": [],
   "source": [
    "url = 'https://books.toscrape.com'\n",
    "headers = {'User-Agent': 'Mozilla/5.0 (Macintosh; Intel Mac OS X 10_11_5),AppleWebKit/537.36 (KHTML, like Gecko) Chrome/50.0.2661.102 Safari/537.36'}\n",
    "\n",
    "page = requests.get( url, headers=headers )\n",
    "soup = BeautifulSoup( page.text, 'html.parser' )"
   ]
  },
  {
   "cell_type": "code",
   "execution_count": 31,
   "id": "1c2984dc",
   "metadata": {},
   "outputs": [],
   "source": [
    "page_results = list( filter( None, soup.find( 'form', class_='form-horizontal' ).get_text().split('\\n') ) )[0]\n",
    "total_products = int( page_results[0:4] )\n",
    "total_showcase = int( page_results[-3:-1] )\n",
    "total_requests = int( total_products / total_showcase)"
   ]
  },
  {
   "cell_type": "markdown",
   "id": "bb8772d3",
   "metadata": {},
   "source": [
    "## 1.2. All Books Name & Price"
   ]
  },
  {
   "cell_type": "code",
   "execution_count": 223,
   "id": "75fa87de",
   "metadata": {},
   "outputs": [],
   "source": [
    "headers = {'User-Agent': 'Mozilla/5.0 (Macintosh; Intel Mac OS X 10_11_5),AppleWebKit/537.36 (KHTML, like Gecko) Chrome/50.0.2661.102 Safari/537.36'}\n",
    "aux_p = []\n",
    "aux_a = []\n",
    "\n",
    "for i in range( 1, total_requests+1 ): # Get all Price & Name Books.\n",
    "    url_request = 'https://books.toscrape.com/catalogue/page-' + str(i) + '.html'\n",
    "\n",
    "    page = requests.get( url_request, headers=headers )\n",
    "    soup = BeautifulSoup( page.text, 'html.parser' )\n",
    "    \n",
    "    product_showcase = soup.find( 'ol', class_='row' )\n",
    "    \n",
    "    #book_name\n",
    "    product_list = product_showcase.find_all('a', title=True)\n",
    "    p_name = [p['title'] for p in product_list]\n",
    "    aux_a.append( p_name )\n",
    "    \n",
    "    #book_price\n",
    "    product_list = product_showcase.find_all( 'article', class_='product_pod' )\n",
    "    product_list[1].find('p', class_='price_color').get_text()\n",
    "    p_price = [p.find('p', class_='price_color').get_text().replace('Â£', '') for p in product_list]\n",
    "    aux_p.append( p_price )\n",
    "    \n",
    "p_price = []   # Array with all prices.\n",
    "for i in aux_p:\n",
    "    for j in i:\n",
    "        p_price.append( j )\n",
    "\n",
    "p_name = []\n",
    "for i in aux_a:\n",
    "    for j in i:\n",
    "        p_name.append( j )"
   ]
  },
  {
   "cell_type": "code",
   "execution_count": 233,
   "id": "9f46d260",
   "metadata": {},
   "outputs": [],
   "source": [
    "df_showcase = pd.DataFrame( [p_name, p_price] ).T\n",
    "df_showcase.columns = ['name', 'price']"
   ]
  },
  {
   "cell_type": "markdown",
   "id": "229db04d",
   "metadata": {},
   "source": [
    "## 1.3. All Books Links"
   ]
  },
  {
   "cell_type": "code",
   "execution_count": 157,
   "id": "3590584f",
   "metadata": {},
   "outputs": [],
   "source": [
    "aux_link = []\n",
    "for i in range( 1, total_requests+1 ): # Get all link info\n",
    "    url_request = 'https://books.toscrape.com/catalogue/page-' + str(i) + '.html'\n",
    "\n",
    "    page = requests.get( url_request, headers=headers )\n",
    "    soup = BeautifulSoup( page.text, 'html.parser' )\n",
    "\n",
    "    product_showcase = soup.find( 'ol', class_='row' )\n",
    "    product_list = product_showcase.find_all('a', href=True)\n",
    "    \n",
    "    for i in range( 1, 40, 2 ):\n",
    "        aux_link.append( product_list[i]['href'] )"
   ]
  },
  {
   "cell_type": "markdown",
   "id": "c4e1fd8a",
   "metadata": {},
   "source": [
    "## 1.4. All Books Category, Stock & Id"
   ]
  },
  {
   "cell_type": "code",
   "execution_count": 161,
   "id": "60d85b19",
   "metadata": {},
   "outputs": [],
   "source": [
    "url = 'https://books.toscrape.com/catalogue/a-light-in-the-attic_1000/index.html'\n",
    "\n",
    "page = requests.get( url, headers=headers )\n",
    "soup = BeautifulSoup( page.text, 'html.parser' )"
   ]
  },
  {
   "cell_type": "code",
   "execution_count": 201,
   "id": "03b6f8a4",
   "metadata": {},
   "outputs": [],
   "source": [
    "#book_stock\n",
    "product_stock = int(list( filter( None, soup.find('p', 'instock availability').get_text().split('\\n') ) )[1].replace(' ', '').replace('Instock(', '').replace('available)', ''))\n",
    "\n",
    "#book category\n",
    "product_category = list( filter( None, soup.find('ul', class_='breadcrumb' ).get_text().split('\\n') ) )[2]\n",
    "\n",
    "#book_id\n",
    "product_table = soup.find('table', class_='table table-striped')\n",
    "product_upc = product_table.find('td').get_text()"
   ]
  },
  {
   "cell_type": "code",
   "execution_count": 225,
   "id": "0519e368",
   "metadata": {},
   "outputs": [],
   "source": [
    "cols = ['upc', 'category', 'stock', 'price']\n",
    "df_details = pd.DataFrame()\n",
    "\n",
    "for i in aux_link:\n",
    "    url  = 'https://books.toscrape.com/catalogue/' + i\n",
    "    page = requests.get( url, headers=headers )\n",
    "    soup = BeautifulSoup( page.text, 'html.parser' )\n",
    "    \n",
    "    #book_name\n",
    "    p_name = soup.find('h1').get_text()\n",
    "    \n",
    "    #book_stock\n",
    "    p_stock = int(list( filter( None, soup.find('p', 'instock availability').get_text().split('\\n') ) )[1].replace(' ', '').replace('Instock(', '').replace('available)', ''))\n",
    "\n",
    "    #book category\n",
    "    p_category = list( filter( None, soup.find('ul', class_='breadcrumb' ).get_text().split('\\n') ) )[2]\n",
    "\n",
    "    #book_id\n",
    "    product_table = soup.find('table', class_='table table-striped')\n",
    "    p_upc = product_table.find('td').get_text()\n",
    "    \n",
    "    df_info = pd.DataFrame( [p_name, p_upc, p_category, p_stock] ).T\n",
    "    df_info.columns = ['name', 'upc', 'category', 'stock']\n",
    "    \n",
    "    df_details = pd.concat( [df_details, df_info], axis=0 )"
   ]
  },
  {
   "cell_type": "code",
   "execution_count": 230,
   "id": "c2fab559",
   "metadata": {},
   "outputs": [
    {
     "data": {
      "text/html": [
       "<div>\n",
       "<style scoped>\n",
       "    .dataframe tbody tr th:only-of-type {\n",
       "        vertical-align: middle;\n",
       "    }\n",
       "\n",
       "    .dataframe tbody tr th {\n",
       "        vertical-align: top;\n",
       "    }\n",
       "\n",
       "    .dataframe thead th {\n",
       "        text-align: right;\n",
       "    }\n",
       "</style>\n",
       "<table border=\"1\" class=\"dataframe\">\n",
       "  <thead>\n",
       "    <tr style=\"text-align: right;\">\n",
       "      <th></th>\n",
       "      <th>name</th>\n",
       "      <th>upc</th>\n",
       "      <th>category</th>\n",
       "      <th>stock</th>\n",
       "    </tr>\n",
       "  </thead>\n",
       "  <tbody>\n",
       "    <tr>\n",
       "      <th>0</th>\n",
       "      <td>A Light in the Attic</td>\n",
       "      <td>a897fe39b1053632</td>\n",
       "      <td>Poetry</td>\n",
       "      <td>22</td>\n",
       "    </tr>\n",
       "    <tr>\n",
       "      <th>0</th>\n",
       "      <td>Tipping the Velvet</td>\n",
       "      <td>90fa61229261140a</td>\n",
       "      <td>Historical Fiction</td>\n",
       "      <td>20</td>\n",
       "    </tr>\n",
       "    <tr>\n",
       "      <th>0</th>\n",
       "      <td>Soumission</td>\n",
       "      <td>6957f44c3847a760</td>\n",
       "      <td>Fiction</td>\n",
       "      <td>20</td>\n",
       "    </tr>\n",
       "  </tbody>\n",
       "</table>\n",
       "</div>"
      ],
      "text/plain": [
       "                   name               upc            category stock\n",
       "0  A Light in the Attic  a897fe39b1053632              Poetry    22\n",
       "0    Tipping the Velvet  90fa61229261140a  Historical Fiction    20\n",
       "0            Soumission  6957f44c3847a760             Fiction    20"
      ]
     },
     "execution_count": 230,
     "metadata": {},
     "output_type": "execute_result"
    }
   ],
   "source": [
    "df_details.head(3)"
   ]
  },
  {
   "cell_type": "code",
   "execution_count": 229,
   "id": "55d1814f",
   "metadata": {},
   "outputs": [
    {
     "data": {
      "text/html": [
       "<div>\n",
       "<style scoped>\n",
       "    .dataframe tbody tr th:only-of-type {\n",
       "        vertical-align: middle;\n",
       "    }\n",
       "\n",
       "    .dataframe tbody tr th {\n",
       "        vertical-align: top;\n",
       "    }\n",
       "\n",
       "    .dataframe thead th {\n",
       "        text-align: right;\n",
       "    }\n",
       "</style>\n",
       "<table border=\"1\" class=\"dataframe\">\n",
       "  <thead>\n",
       "    <tr style=\"text-align: right;\">\n",
       "      <th></th>\n",
       "      <th>name</th>\n",
       "      <th>price</th>\n",
       "      <th>upc</th>\n",
       "      <th>category</th>\n",
       "      <th>stock</th>\n",
       "    </tr>\n",
       "  </thead>\n",
       "  <tbody>\n",
       "    <tr>\n",
       "      <th>0</th>\n",
       "      <td>A Light in the Attic</td>\n",
       "      <td>51.77</td>\n",
       "      <td>a897fe39b1053632</td>\n",
       "      <td>Poetry</td>\n",
       "      <td>22</td>\n",
       "    </tr>\n",
       "    <tr>\n",
       "      <th>1</th>\n",
       "      <td>Tipping the Velvet</td>\n",
       "      <td>53.74</td>\n",
       "      <td>90fa61229261140a</td>\n",
       "      <td>Historical Fiction</td>\n",
       "      <td>20</td>\n",
       "    </tr>\n",
       "    <tr>\n",
       "      <th>2</th>\n",
       "      <td>Soumission</td>\n",
       "      <td>50.10</td>\n",
       "      <td>6957f44c3847a760</td>\n",
       "      <td>Fiction</td>\n",
       "      <td>20</td>\n",
       "    </tr>\n",
       "    <tr>\n",
       "      <th>3</th>\n",
       "      <td>Sharp Objects</td>\n",
       "      <td>47.82</td>\n",
       "      <td>e00eb4fd7b871a48</td>\n",
       "      <td>Mystery</td>\n",
       "      <td>20</td>\n",
       "    </tr>\n",
       "    <tr>\n",
       "      <th>4</th>\n",
       "      <td>Sapiens: A Brief History of Humankind</td>\n",
       "      <td>54.23</td>\n",
       "      <td>4165285e1663650f</td>\n",
       "      <td>History</td>\n",
       "      <td>20</td>\n",
       "    </tr>\n",
       "  </tbody>\n",
       "</table>\n",
       "</div>"
      ],
      "text/plain": [
       "                                    name  price               upc  \\\n",
       "0                   A Light in the Attic  51.77  a897fe39b1053632   \n",
       "1                     Tipping the Velvet  53.74  90fa61229261140a   \n",
       "2                             Soumission  50.10  6957f44c3847a760   \n",
       "3                          Sharp Objects  47.82  e00eb4fd7b871a48   \n",
       "4  Sapiens: A Brief History of Humankind  54.23  4165285e1663650f   \n",
       "\n",
       "             category stock  \n",
       "0              Poetry    22  \n",
       "1  Historical Fiction    20  \n",
       "2             Fiction    20  \n",
       "3             Mystery    20  \n",
       "4             History    20  "
      ]
     },
     "execution_count": 229,
     "metadata": {},
     "output_type": "execute_result"
    }
   ],
   "source": [
    "df_raw = pd.merge( df_showcase, df_details, on='name', how='left' ) # Join Dataframe\n",
    "\n",
    "df_raw['scrapy_datetime'] = datetime.now().strftime( '%Y-%m-%d %H:%M:%S' ) # Save Scrapy datetime\n",
    "\n",
    "df_raw.to_csv( 'books.csv' ) # Save to CSV\n",
    "\n",
    "df_raw.head()"
   ]
  },
  {
   "cell_type": "markdown",
   "id": "3a5acdaf",
   "metadata": {},
   "source": [
    "# 2.0. Send Email with Books Csv"
   ]
  },
  {
   "cell_type": "code",
   "execution_count": 245,
   "id": "cdca6bc4",
   "metadata": {},
   "outputs": [],
   "source": [
    "from email.mime.multipart import MIMEMultipart\n",
    "from email.mime.text import MIMEText\n",
    "from email.mime.base import MIMEBase\n",
    "from email import encoders"
   ]
  },
  {
   "cell_type": "code",
   "execution_count": null,
   "id": "0a56e87d",
   "metadata": {},
   "outputs": [],
   "source": []
  },
  {
   "cell_type": "code",
   "execution_count": 242,
   "id": "8e60d311",
   "metadata": {},
   "outputs": [],
   "source": [
    "email = '''Olá,\n",
    "Segue abaixo um anexo com a extração de dados\n",
    "do site books.toscrape.com as ''' + str(df_raw['scrapy_datetime'][0])"
   ]
  },
  {
   "cell_type": "code",
   "execution_count": 1,
   "id": "692257ad",
   "metadata": {},
   "outputs": [],
   "source": [
    "sender_email = ''\n",
    "sender_pass  = ''\n",
    "receiver_email = ''\n",
    "\n",
    "msg = MIMEMultipart()\n",
    "msg['From'] = sender_email\n",
    "msg['To']   = receiver_email\n",
    "msg['Subject'] = 'Coleta de dados de Livros'\n",
    "\n",
    "msg.attach( MIMEText(email, 'plain') )\n",
    "attach_file = open( 'books.csv', 'rb' )\n",
    "\n",
    "pl = MIMEBase( 'application', 'octate-stream' )\n",
    "pl.set_payload( ( attach_file ).read() )\n",
    "encoders.encode_base64( pl )\n",
    "pl.add_header( 'Content-Disposition', \"attachment; filename=books.csv\" )\n",
    "msg.attach( pl )\n",
    "\n",
    "session = smtplib.SMTP('smtp.gmail.com', 587)\n",
    "session.starttls()\n",
    "session.login(sender_email, sender_pass)\n",
    "text = msg.as_string()\n",
    "session.sendmail(sender_email, receiver_email, text)\n",
    "session.quit()"
   ]
  }
 ],
 "metadata": {
  "hide_input": false,
  "kernelspec": {
   "display_name": "Python 3",
   "language": "python",
   "name": "python3"
  },
  "language_info": {
   "codemirror_mode": {
    "name": "ipython",
    "version": 3
   },
   "file_extension": ".py",
   "mimetype": "text/x-python",
   "name": "python",
   "nbconvert_exporter": "python",
   "pygments_lexer": "ipython3",
   "version": "3.9.5"
  },
  "varInspector": {
   "cols": {
    "lenName": 16,
    "lenType": 16,
    "lenVar": 40
   },
   "kernels_config": {
    "python": {
     "delete_cmd_postfix": "",
     "delete_cmd_prefix": "del ",
     "library": "var_list.py",
     "varRefreshCmd": "print(var_dic_list())"
    },
    "r": {
     "delete_cmd_postfix": ") ",
     "delete_cmd_prefix": "rm(",
     "library": "var_list.r",
     "varRefreshCmd": "cat(var_dic_list()) "
    }
   },
   "types_to_exclude": [
    "module",
    "function",
    "builtin_function_or_method",
    "instance",
    "_Feature"
   ],
   "window_display": false
  }
 },
 "nbformat": 4,
 "nbformat_minor": 5
}
